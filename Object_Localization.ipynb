{
  "nbformat": 4,
  "nbformat_minor": 0,
  "metadata": {
    "colab": {
      "name": "Object_Localization.ipynb",
      "provenance": [],
      "authorship_tag": "ABX9TyMlWBWhbEXZ3jGJVXKPEWTa",
      "include_colab_link": true
    },
    "kernelspec": {
      "name": "python3",
      "display_name": "Python 3"
    },
    "language_info": {
      "name": "python"
    },
    "accelerator": "TPU"
  },
  "cells": [
    {
      "cell_type": "markdown",
      "metadata": {
        "id": "view-in-github",
        "colab_type": "text"
      },
      "source": [
        "<a href=\"https://colab.research.google.com/github/Sahanaka/Object-Localization-CNNs/blob/main/Object_Localization.ipynb\" target=\"_parent\"><img src=\"https://colab.research.google.com/assets/colab-badge.svg\" alt=\"Open In Colab\"/></a>"
      ]
    },
    {
      "cell_type": "markdown",
      "metadata": {
        "id": "pOuRZJAjBfX3"
      },
      "source": [
        "## **Image classification and object localization**\n",
        "**In this notebook we will use a CNN to classfiy and localize obejcts in an image**\n",
        "\n",
        "**We shall use the MNIST Hand Written Image dataset**\n",
        "\n",
        "The model will output 2 values. The bounding box location and the image classfication. "
      ]
    },
    {
      "cell_type": "markdown",
      "metadata": {
        "id": "YuBCD9q1COxm"
      },
      "source": [
        "## **Imports**"
      ]
    },
    {
      "cell_type": "code",
      "metadata": {
        "colab": {
          "base_uri": "https://localhost:8080/"
        },
        "id": "_gerFgAHBXqx",
        "outputId": "addf6d1a-8d12-4967-bd1f-465511e32793"
      },
      "source": [
        "import os, re, time, json\n",
        "import PIL.Image, PIL.ImageFont, PIL.ImageDraw\n",
        "import numpy as np\n",
        "try:\n",
        "  # %tensorflow_version only exists in Colab.\n",
        "  %tensorflow_version 2.x\n",
        "except Exception:\n",
        "  pass\n",
        "import tensorflow as tf\n",
        "from matplotlib import pyplot as plt\n",
        "import tensorflow_datasets as tfds\n",
        "\n",
        "print(\"Tensorflow version \" + tf.__version__)"
      ],
      "execution_count": 1,
      "outputs": [
        {
          "output_type": "stream",
          "name": "stdout",
          "text": [
            "Tensorflow version 2.6.0\n"
          ]
        }
      ]
    },
    {
      "cell_type": "markdown",
      "metadata": {
        "id": "WcE2bTXMCY5N"
      },
      "source": [
        "## **Visualization Utilities**"
      ]
    },
    {
      "cell_type": "markdown",
      "metadata": {
        "id": "JaSA1Oq7CiZu"
      },
      "source": [
        "**These functions are used to draw bounding boxes around the digits of MNIST**\n",
        "\n",
        "**NOTE**: *There are no bounding boxes around the digits of MNIST. Hence will place the digits in 75 x 75 at a random location and then draw the boxes. This generalizes the model well as it learns to localize digits at any place of the canvas.*"
      ]
    },
    {
      "cell_type": "code",
      "metadata": {
        "id": "7ED7m0U8CTFX"
      },
      "source": [
        "im_width = 75\n",
        "im_height = 75\n",
        "use_normalized_coordinates = True\n",
        "\n",
        "def draw_bounding_boxes_on_image_array(image,\n",
        "                                       boxes,\n",
        "                                       color=[],\n",
        "                                       thickness=1,\n",
        "                                       display_str_list=()):\n",
        "  \"\"\"Draws bounding boxes on image (numpy array).\n",
        "  Args:\n",
        "    image: a numpy array object.\n",
        "    boxes: a 2 dimensional numpy array of [N, 4]: (ymin, xmin, ymax, xmax).\n",
        "           The coordinates are in normalized format between [0, 1].\n",
        "    color: color to draw bounding box. Default is red.\n",
        "    thickness: line thickness. Default value is 4.\n",
        "    display_str_list_list: a list of strings for each bounding box.\n",
        "  Raises:\n",
        "    ValueError: if boxes is not a [N, 4] array\n",
        "  \"\"\"\n",
        "  image_pil = PIL.Image.fromarray(image)\n",
        "  rgbimg = PIL.Image.new(\"RGBA\", image_pil.size)\n",
        "  rgbimg.paste(image_pil)\n",
        "  draw_bounding_boxes_on_image(rgbimg, boxes, color, thickness,\n",
        "                               display_str_list)\n",
        "  return np.array(rgbimg)\n",
        "  \n",
        "\n",
        "def draw_bounding_boxes_on_image(image,\n",
        "                                 boxes,\n",
        "                                 color=[],\n",
        "                                 thickness=1,\n",
        "                                 display_str_list=()):\n",
        "  \"\"\"Draws bounding boxes on image.\n",
        "  Args:\n",
        "    image: a PIL.Image object.\n",
        "    boxes: a 2 dimensional numpy array of [N, 4]: (ymin, xmin, ymax, xmax).\n",
        "           The coordinates are in normalized format between [0, 1].\n",
        "    color: color to draw bounding box. Default is red.\n",
        "    thickness: line thickness. Default value is 4.\n",
        "    display_str_list: a list of strings for each bounding box.\n",
        "                           \n",
        "  Raises:\n",
        "    ValueError: if boxes is not a [N, 4] array\n",
        "  \"\"\"\n",
        "  boxes_shape = boxes.shape\n",
        "  if not boxes_shape:\n",
        "    return\n",
        "  if len(boxes_shape) != 2 or boxes_shape[1] != 4:\n",
        "    raise ValueError('Input must be of size [N, 4]')\n",
        "  for i in range(boxes_shape[0]):\n",
        "    draw_bounding_box_on_image(image, boxes[i, 1], boxes[i, 0], boxes[i, 3],\n",
        "                               boxes[i, 2], color[i], thickness, display_str_list[i])\n",
        "        \n",
        "def draw_bounding_box_on_image(image,\n",
        "                               ymin,\n",
        "                               xmin,\n",
        "                               ymax,\n",
        "                               xmax,\n",
        "                               color='red',\n",
        "                               thickness=1,\n",
        "                               display_str=None,\n",
        "                               use_normalized_coordinates=True):\n",
        "  \"\"\"Adds a bounding box to an image.\n",
        "  Bounding box coordinates can be specified in either absolute (pixel) or\n",
        "  normalized coordinates by setting the use_normalized_coordinates argument.\n",
        "  Args:\n",
        "    image: a PIL.Image object.\n",
        "    ymin: ymin of bounding box.\n",
        "    xmin: xmin of bounding box.\n",
        "    ymax: ymax of bounding box.\n",
        "    xmax: xmax of bounding box.\n",
        "    color: color to draw bounding box. Default is red.\n",
        "    thickness: line thickness. Default value is 4.\n",
        "    display_str_list: string to display in box\n",
        "    use_normalized_coordinates: If True (default), treat coordinates\n",
        "      ymin, xmin, ymax, xmax as relative to the image.  Otherwise treat\n",
        "      coordinates as absolute.\n",
        "  \"\"\"\n",
        "  draw = PIL.ImageDraw.Draw(image)\n",
        "  im_width, im_height = image.size\n",
        "  if use_normalized_coordinates:\n",
        "    (left, right, top, bottom) = (xmin * im_width, xmax * im_width,\n",
        "                                  ymin * im_height, ymax * im_height)\n",
        "  else:\n",
        "    (left, right, top, bottom) = (xmin, xmax, ymin, ymax)\n",
        "  draw.line([(left, top), (left, bottom), (right, bottom),\n",
        "             (right, top), (left, top)], width=thickness, fill=color)\n",
        "  \n"
      ],
      "execution_count": 2,
      "outputs": []
    },
    {
      "cell_type": "markdown",
      "metadata": {
        "id": "xjQV9LKwEc3N"
      },
      "source": [
        "The following functions visualize the data and predictions"
      ]
    },
    {
      "cell_type": "code",
      "metadata": {
        "id": "Puafa_cTEKBI"
      },
      "source": [
        "\"\"\"\n",
        "This cell contains helper functions used for visualization\n",
        "and downloads only. \n",
        "\"\"\"\n",
        "\n",
        "# Matplotlib config\n",
        "plt.rc('image', cmap='gray')\n",
        "plt.rc('grid', linewidth=0)\n",
        "plt.rc('xtick', top=False, bottom=False, labelsize='large')\n",
        "plt.rc('ytick', left=False, right=False, labelsize='large')\n",
        "plt.rc('axes', facecolor='F8F8F8', titlesize=\"large\", edgecolor='white')\n",
        "plt.rc('text', color='a8151a')\n",
        "plt.rc('figure', facecolor='F0F0F0')# Matplotlib fonts\n",
        "MATPLOTLIB_FONT_DIR = os.path.join(os.path.dirname(plt.__file__), \"mpl-data/fonts/ttf\")\n",
        "\n",
        "# pull a batch from the datasets. This code is not very nice, it gets much better in eager mode (TODO)\n",
        "def dataset_to_numpy_util(training_dataset, validation_dataset, N):\n",
        "  \n",
        "  # get one batch from each: 10000 validation digits, N training digits\n",
        "  batch_train_ds = training_dataset.unbatch().batch(N)\n",
        "  \n",
        "  # eager execution: loop through datasets normally\n",
        "  if tf.executing_eagerly():\n",
        "    for validation_digits, (validation_labels, validation_bboxes) in validation_dataset:\n",
        "      validation_digits = validation_digits.numpy()\n",
        "      validation_labels = validation_labels.numpy()\n",
        "      validation_bboxes = validation_bboxes.numpy()\n",
        "      break\n",
        "    for training_digits, (training_labels, training_bboxes) in batch_train_ds:\n",
        "      training_digits = training_digits.numpy()\n",
        "      training_labels = training_labels.numpy()\n",
        "      training_bboxes = training_bboxes.numpy()\n",
        "      break\n",
        "  \n",
        "  # these were one-hot encoded in the dataset\n",
        "  validation_labels = np.argmax(validation_labels, axis=1)\n",
        "  training_labels = np.argmax(training_labels, axis=1)\n",
        "  \n",
        "  return (training_digits, training_labels, training_bboxes,\n",
        "          validation_digits, validation_labels, validation_bboxes)\n",
        "\n",
        "# create digits from local fonts for testing\n",
        "def create_digits_from_local_fonts(n):\n",
        "  font_labels = []\n",
        "  img = PIL.Image.new('LA', (75*n, 75), color = (0,255)) # format 'LA': black in channel 0, alpha in channel 1\n",
        "  font1 = PIL.ImageFont.truetype(os.path.join(MATPLOTLIB_FONT_DIR, 'DejaVuSansMono-Oblique.ttf'), 25)\n",
        "  font2 = PIL.ImageFont.truetype(os.path.join(MATPLOTLIB_FONT_DIR, 'STIXGeneral.ttf'), 25)\n",
        "  d = PIL.ImageDraw.Draw(img)\n",
        "  for i in range(n):\n",
        "    font_labels.append(i%10)\n",
        "    d.text((7+i*75,0 if i<10 else -4), str(i%10), fill=(255,255), font=font1 if i<10 else font2)\n",
        "  font_digits = np.array(img.getdata(), np.float32)[:,0] / 255.0 # black in channel 0, alpha in channel 1 (discarded)\n",
        "  font_digits = np.reshape(np.stack(np.split(np.reshape(font_digits, [75, 75*n]), n, axis=1), axis=0), [n, 75*75])\n",
        "  return font_digits, font_labels\n",
        "\n",
        "\n",
        "# utility to display a row of digits with their predictions\n",
        "def display_digits_with_boxes(digits, predictions, labels, pred_bboxes, bboxes, iou, title):\n",
        "\n",
        "  n = 10\n",
        "\n",
        "  indexes = np.random.choice(len(predictions), size=n)\n",
        "  n_digits = digits[indexes]\n",
        "  n_predictions = predictions[indexes]\n",
        "  n_labels = labels[indexes]\n",
        "\n",
        "  n_iou = []\n",
        "  if len(iou) > 0:\n",
        "    n_iou = iou[indexes]\n",
        "\n",
        "  if (len(pred_bboxes) > 0):\n",
        "    n_pred_bboxes = pred_bboxes[indexes,:]\n",
        "\n",
        "  if (len(bboxes) > 0):\n",
        "    n_bboxes = bboxes[indexes,:]\n",
        "\n",
        "\n",
        "  n_digits = n_digits * 255.0\n",
        "  n_digits = n_digits.reshape(n, 75, 75)\n",
        "  fig = plt.figure(figsize=(20, 4))\n",
        "  plt.title(title)\n",
        "  plt.yticks([])\n",
        "  plt.xticks([])\n",
        "  \n",
        "  for i in range(10):\n",
        "    ax = fig.add_subplot(1, 10, i+1)\n",
        "    bboxes_to_plot = []\n",
        "    if (len(pred_bboxes) > i):\n",
        "      bboxes_to_plot.append(n_pred_bboxes[i])\n",
        "    \n",
        "    if (len(bboxes) > i):\n",
        "      bboxes_to_plot.append(n_bboxes[i])\n",
        "\n",
        "    img_to_draw = draw_bounding_boxes_on_image_array(image=n_digits[i], boxes=np.asarray(bboxes_to_plot), color=['red', 'green'], display_str_list=[\"true\", \"pred\"])\n",
        "    plt.xlabel(n_predictions[i])\n",
        "    plt.xticks([])\n",
        "    plt.yticks([])\n",
        "    \n",
        "    if n_predictions[i] != n_labels[i]:\n",
        "      ax.xaxis.label.set_color('red')\n",
        "\n",
        "    \n",
        "    \n",
        "    plt.imshow(img_to_draw)\n",
        "\n",
        "    if len(iou) > i :\n",
        "      color = \"black\"\n",
        "      if (n_iou[i][0] < iou_threshold):\n",
        "        color = \"red\"\n",
        "      ax.text(0.2, -0.3, \"iou: %s\" %(n_iou[i][0]), color=color, transform=ax.transAxes)\n",
        "\n",
        "\n",
        "# utility to display training and validation curves\n",
        "def plot_metrics(metric_name, title, ylim=5):\n",
        "  plt.title(title)\n",
        "  plt.ylim(0,ylim)\n",
        "  plt.plot(history.history[metric_name],color='blue',label=metric_name)\n",
        "  plt.plot(history.history['val_' + metric_name],color='green',label='val_' + metric_name)"
      ],
      "execution_count": 3,
      "outputs": []
    },
    {
      "cell_type": "markdown",
      "metadata": {
        "id": "ttQCckZYFKVH"
      },
      "source": [
        "## **Distribution Strategy**"
      ]
    },
    {
      "cell_type": "markdown",
      "metadata": {
        "id": "D6OmREgRFmhO"
      },
      "source": [
        "The following code will choose the strategy upon hardware detection."
      ]
    },
    {
      "cell_type": "code",
      "metadata": {
        "colab": {
          "base_uri": "https://localhost:8080/"
        },
        "id": "55V4QfNcEyVW",
        "outputId": "6c26a1bd-8453-40f9-d5c7-29e9533e8302"
      },
      "source": [
        "# Detect hardware\n",
        "try:\n",
        "  tpu = tf.distribute.cluster_resolver.TPUClusterResolver() # TPU detection\n",
        "except ValueError:\n",
        "  tpu = None\n",
        "  gpus = tf.config.experimental.list_logical_devices(\"GPU\")\n",
        "    \n",
        "# Select appropriate distribution strategy\n",
        "if tpu:\n",
        "  tf.config.experimental_connect_to_cluster(tpu)\n",
        "  tf.tpu.experimental.initialize_tpu_system(tpu)\n",
        "  strategy = tf.distribute.TPUStrategy(tpu) # Going back and forth between TPU and host is expensive. Better to run 128 batches on the TPU before reporting back.\n",
        "  print('Running on TPU ', tpu.cluster_spec().as_dict()['worker'])  \n",
        "elif len(gpus) > 1:\n",
        "  strategy = tf.distribute.MirroredStrategy([gpu.name for gpu in gpus])\n",
        "  print('Running on multiple GPUs ', [gpu.name for gpu in gpus])\n",
        "elif len(gpus) == 1:\n",
        "  strategy = tf.distribute.get_strategy() # default strategy that works on CPU and single GPU\n",
        "  print('Running on single GPU ', gpus[0].name)\n",
        "else:\n",
        "  strategy = tf.distribute.get_strategy() # default strategy that works on CPU and single GPU\n",
        "  print('Running on CPU')\n",
        "print(\"Number of accelerators: \", strategy.num_replicas_in_sync)"
      ],
      "execution_count": 5,
      "outputs": [
        {
          "output_type": "stream",
          "name": "stdout",
          "text": [
            "INFO:tensorflow:Clearing out eager caches\n"
          ]
        },
        {
          "output_type": "stream",
          "name": "stderr",
          "text": [
            "INFO:tensorflow:Clearing out eager caches\n"
          ]
        },
        {
          "output_type": "stream",
          "name": "stdout",
          "text": [
            "WARNING:tensorflow:TPU system grpc://10.44.82.106:8470 has already been initialized. Reinitializing the TPU can cause previously created variables on TPU to be lost.\n"
          ]
        },
        {
          "output_type": "stream",
          "name": "stderr",
          "text": [
            "WARNING:tensorflow:TPU system grpc://10.44.82.106:8470 has already been initialized. Reinitializing the TPU can cause previously created variables on TPU to be lost.\n"
          ]
        },
        {
          "output_type": "stream",
          "name": "stdout",
          "text": [
            "INFO:tensorflow:Initializing the TPU system: grpc://10.44.82.106:8470\n"
          ]
        },
        {
          "output_type": "stream",
          "name": "stderr",
          "text": [
            "INFO:tensorflow:Initializing the TPU system: grpc://10.44.82.106:8470\n"
          ]
        },
        {
          "output_type": "stream",
          "name": "stdout",
          "text": [
            "INFO:tensorflow:Finished initializing TPU system.\n"
          ]
        },
        {
          "output_type": "stream",
          "name": "stderr",
          "text": [
            "INFO:tensorflow:Finished initializing TPU system.\n"
          ]
        },
        {
          "output_type": "stream",
          "name": "stdout",
          "text": [
            "INFO:tensorflow:Found TPU system:\n"
          ]
        },
        {
          "output_type": "stream",
          "name": "stderr",
          "text": [
            "INFO:tensorflow:Found TPU system:\n"
          ]
        },
        {
          "output_type": "stream",
          "name": "stdout",
          "text": [
            "INFO:tensorflow:*** Num TPU Cores: 8\n"
          ]
        },
        {
          "output_type": "stream",
          "name": "stderr",
          "text": [
            "INFO:tensorflow:*** Num TPU Cores: 8\n"
          ]
        },
        {
          "output_type": "stream",
          "name": "stdout",
          "text": [
            "INFO:tensorflow:*** Num TPU Workers: 1\n"
          ]
        },
        {
          "output_type": "stream",
          "name": "stderr",
          "text": [
            "INFO:tensorflow:*** Num TPU Workers: 1\n"
          ]
        },
        {
          "output_type": "stream",
          "name": "stdout",
          "text": [
            "INFO:tensorflow:*** Num TPU Cores Per Worker: 8\n"
          ]
        },
        {
          "output_type": "stream",
          "name": "stderr",
          "text": [
            "INFO:tensorflow:*** Num TPU Cores Per Worker: 8\n"
          ]
        },
        {
          "output_type": "stream",
          "name": "stdout",
          "text": [
            "INFO:tensorflow:*** Available Device: _DeviceAttributes(/job:localhost/replica:0/task:0/device:CPU:0, CPU, 0, 0)\n"
          ]
        },
        {
          "output_type": "stream",
          "name": "stderr",
          "text": [
            "INFO:tensorflow:*** Available Device: _DeviceAttributes(/job:localhost/replica:0/task:0/device:CPU:0, CPU, 0, 0)\n"
          ]
        },
        {
          "output_type": "stream",
          "name": "stdout",
          "text": [
            "INFO:tensorflow:*** Available Device: _DeviceAttributes(/job:worker/replica:0/task:0/device:CPU:0, CPU, 0, 0)\n"
          ]
        },
        {
          "output_type": "stream",
          "name": "stderr",
          "text": [
            "INFO:tensorflow:*** Available Device: _DeviceAttributes(/job:worker/replica:0/task:0/device:CPU:0, CPU, 0, 0)\n"
          ]
        },
        {
          "output_type": "stream",
          "name": "stdout",
          "text": [
            "INFO:tensorflow:*** Available Device: _DeviceAttributes(/job:worker/replica:0/task:0/device:TPU:0, TPU, 0, 0)\n"
          ]
        },
        {
          "output_type": "stream",
          "name": "stderr",
          "text": [
            "INFO:tensorflow:*** Available Device: _DeviceAttributes(/job:worker/replica:0/task:0/device:TPU:0, TPU, 0, 0)\n"
          ]
        },
        {
          "output_type": "stream",
          "name": "stdout",
          "text": [
            "INFO:tensorflow:*** Available Device: _DeviceAttributes(/job:worker/replica:0/task:0/device:TPU:1, TPU, 0, 0)\n"
          ]
        },
        {
          "output_type": "stream",
          "name": "stderr",
          "text": [
            "INFO:tensorflow:*** Available Device: _DeviceAttributes(/job:worker/replica:0/task:0/device:TPU:1, TPU, 0, 0)\n"
          ]
        },
        {
          "output_type": "stream",
          "name": "stdout",
          "text": [
            "INFO:tensorflow:*** Available Device: _DeviceAttributes(/job:worker/replica:0/task:0/device:TPU:2, TPU, 0, 0)\n"
          ]
        },
        {
          "output_type": "stream",
          "name": "stderr",
          "text": [
            "INFO:tensorflow:*** Available Device: _DeviceAttributes(/job:worker/replica:0/task:0/device:TPU:2, TPU, 0, 0)\n"
          ]
        },
        {
          "output_type": "stream",
          "name": "stdout",
          "text": [
            "INFO:tensorflow:*** Available Device: _DeviceAttributes(/job:worker/replica:0/task:0/device:TPU:3, TPU, 0, 0)\n"
          ]
        },
        {
          "output_type": "stream",
          "name": "stderr",
          "text": [
            "INFO:tensorflow:*** Available Device: _DeviceAttributes(/job:worker/replica:0/task:0/device:TPU:3, TPU, 0, 0)\n"
          ]
        },
        {
          "output_type": "stream",
          "name": "stdout",
          "text": [
            "INFO:tensorflow:*** Available Device: _DeviceAttributes(/job:worker/replica:0/task:0/device:TPU:4, TPU, 0, 0)\n"
          ]
        },
        {
          "output_type": "stream",
          "name": "stderr",
          "text": [
            "INFO:tensorflow:*** Available Device: _DeviceAttributes(/job:worker/replica:0/task:0/device:TPU:4, TPU, 0, 0)\n"
          ]
        },
        {
          "output_type": "stream",
          "name": "stdout",
          "text": [
            "INFO:tensorflow:*** Available Device: _DeviceAttributes(/job:worker/replica:0/task:0/device:TPU:5, TPU, 0, 0)\n"
          ]
        },
        {
          "output_type": "stream",
          "name": "stderr",
          "text": [
            "INFO:tensorflow:*** Available Device: _DeviceAttributes(/job:worker/replica:0/task:0/device:TPU:5, TPU, 0, 0)\n"
          ]
        },
        {
          "output_type": "stream",
          "name": "stdout",
          "text": [
            "INFO:tensorflow:*** Available Device: _DeviceAttributes(/job:worker/replica:0/task:0/device:TPU:6, TPU, 0, 0)\n"
          ]
        },
        {
          "output_type": "stream",
          "name": "stderr",
          "text": [
            "INFO:tensorflow:*** Available Device: _DeviceAttributes(/job:worker/replica:0/task:0/device:TPU:6, TPU, 0, 0)\n"
          ]
        },
        {
          "output_type": "stream",
          "name": "stdout",
          "text": [
            "INFO:tensorflow:*** Available Device: _DeviceAttributes(/job:worker/replica:0/task:0/device:TPU:7, TPU, 0, 0)\n"
          ]
        },
        {
          "output_type": "stream",
          "name": "stderr",
          "text": [
            "INFO:tensorflow:*** Available Device: _DeviceAttributes(/job:worker/replica:0/task:0/device:TPU:7, TPU, 0, 0)\n"
          ]
        },
        {
          "output_type": "stream",
          "name": "stdout",
          "text": [
            "INFO:tensorflow:*** Available Device: _DeviceAttributes(/job:worker/replica:0/task:0/device:TPU_SYSTEM:0, TPU_SYSTEM, 0, 0)\n"
          ]
        },
        {
          "output_type": "stream",
          "name": "stderr",
          "text": [
            "INFO:tensorflow:*** Available Device: _DeviceAttributes(/job:worker/replica:0/task:0/device:TPU_SYSTEM:0, TPU_SYSTEM, 0, 0)\n"
          ]
        },
        {
          "output_type": "stream",
          "name": "stdout",
          "text": [
            "INFO:tensorflow:*** Available Device: _DeviceAttributes(/job:worker/replica:0/task:0/device:XLA_CPU:0, XLA_CPU, 0, 0)\n"
          ]
        },
        {
          "output_type": "stream",
          "name": "stderr",
          "text": [
            "INFO:tensorflow:*** Available Device: _DeviceAttributes(/job:worker/replica:0/task:0/device:XLA_CPU:0, XLA_CPU, 0, 0)\n"
          ]
        },
        {
          "output_type": "stream",
          "name": "stdout",
          "text": [
            "Running on TPU  ['10.44.82.106:8470']\n",
            "Number of accelerators:  8\n"
          ]
        }
      ]
    },
    {
      "cell_type": "markdown",
      "metadata": {
        "id": "Bhvw9_INGHz3"
      },
      "source": [
        "### Parameters\n",
        "\n",
        "The global batch size is the batch size per replica (64 in this case) times the number of replicas in the distribution strategy."
      ]
    },
    {
      "cell_type": "code",
      "metadata": {
        "id": "O8qiuNIVFu2n"
      },
      "source": [
        "BATCH_SIZE = 64 * strategy.num_replicas_in_sync"
      ],
      "execution_count": 6,
      "outputs": []
    },
    {
      "cell_type": "markdown",
      "metadata": {
        "id": "hLtGrt-bGbKv"
      },
      "source": [
        "## **Loading and preprocessing the dataset**"
      ]
    },
    {
      "cell_type": "code",
      "metadata": {
        "id": "ahuup0-uGUGm"
      },
      "source": [
        "# The following function randomly overlays the \"digit\" image on top of a larger canvas.\n",
        "def read_image_tfds(image, label):\n",
        "  xmin = tf.random.uniform((), 0 , 48, dtype=tf.int32)\n",
        "  ymin = tf.random.uniform((), 0 , 48, dtype=tf.int32)\n",
        "  image = tf.reshape(image, (28,28,1,))\n",
        "  image = tf.image.pad_to_bounding_box(image, ymin, xmin, 75, 75)\n",
        "  image = tf.cast(image, tf.float32) / 255.0\n",
        "  xmin = tf.cast(xmin, tf.float32)\n",
        "  ymin = tf.cast(ymin, tf.float32)\n",
        "   \n",
        "  xmax = (xmin + 28) / 75\n",
        "  ymax = (ymin + 28) / 75\n",
        "  xmin = xmin / 75\n",
        "  ymin = ymin / 75\n",
        "  return image, (tf.one_hot(label, 10), [xmin, ymin, xmax, ymax])"
      ],
      "execution_count": 7,
      "outputs": []
    },
    {
      "cell_type": "code",
      "metadata": {
        "id": "O4X-djDYHjdZ"
      },
      "source": [
        "'''The following function Loads and maps the training split of the dataset using the map function. \n",
        "  We try to load the gcs version since TPU can only work with datasets on Google Cloud Storage.\n",
        "'''\n",
        "def get_training_dataset():\n",
        "  with strategy.scope():\n",
        "    dataset = tfds.load(\"mnist\", split=\"train\", as_supervised=True, try_gcs=True)\n",
        "    dataset = dataset.map(read_image_tfds, num_parallel_calls=16)\n",
        "    dataset = dataset.shuffle(5000, reshuffle_each_iteration=True)\n",
        "    dataset = dataset.repeat() # Mandatory for Keras for now\n",
        "    dataset = dataset.batch(BATCH_SIZE, drop_remainder=True) # drop_remainder is important on TPU, batch size must be fixed\n",
        "    dataset = dataset.prefetch(-1)  # fetch next batches while training on the current one (-1: autotune prefetch buffer size)\n",
        "  return dataset"
      ],
      "execution_count": 8,
      "outputs": []
    },
    {
      "cell_type": "code",
      "metadata": {
        "id": "LqkawO7wJxP6"
      },
      "source": [
        "def get_validation_dataset():\n",
        "    dataset = tfds.load(\"mnist\", split=\"test\", as_supervised=True, try_gcs=True)\n",
        "    dataset = dataset.map(read_image_tfds, num_parallel_calls=16)\n",
        "\n",
        "    #dataset = dataset.cache() # this small dataset can be entirely cached in RAM\n",
        "    dataset = dataset.batch(10000, drop_remainder=True) # 10000 items in eval dataset, all in one batch\n",
        "    dataset = dataset.repeat() # Mandatory for Keras for now\n",
        "    return dataset"
      ],
      "execution_count": 9,
      "outputs": []
    },
    {
      "cell_type": "code",
      "metadata": {
        "id": "eUC1ZH4CKDWO"
      },
      "source": [
        "# Instantiate the datasets\n",
        "with strategy.scope():\n",
        "  training_dataset = get_training_dataset()\n",
        "  validation_dataset = get_validation_dataset()"
      ],
      "execution_count": 10,
      "outputs": []
    },
    {
      "cell_type": "markdown",
      "metadata": {
        "id": "L6Ol49rrKUTd"
      },
      "source": [
        "### Visualize the data"
      ]
    },
    {
      "cell_type": "code",
      "metadata": {
        "colab": {
          "base_uri": "https://localhost:8080/",
          "height": 511
        },
        "id": "hit4TfmRKQLO",
        "outputId": "114ca871-4670-4cf2-9bfa-d6e1e57a10b4"
      },
      "source": [
        "(training_digits, training_labels, training_bboxes,\n",
        " validation_digits, validation_labels, validation_bboxes) = dataset_to_numpy_util(training_dataset, validation_dataset, 10)\n",
        "\n",
        "display_digits_with_boxes(training_digits, training_labels, training_labels, np.array([]), training_bboxes, np.array([]), \"training digits and their labels\")\n",
        "display_digits_with_boxes(validation_digits, validation_labels, validation_labels, np.array([]), validation_bboxes, np.array([]), \"validation digits and their labels\")\n"
      ],
      "execution_count": 11,
      "outputs": [
        {
          "output_type": "display_data",
          "data": {
            "image/png": "[encoded data removed]",
            "text/plain": [
              "<Figure size 1440x288 with 11 Axes>"
            ]
          },
          "metadata": {}
        },
        {
          "output_type": "display_data",
          "data": {
            "image/png": "[encoded data removed]",
            "text/plain": [
              "<Figure size 1440x288 with 11 Axes>"
            ]
          },
          "metadata": {}
        }
      ]
    },
    {
      "cell_type": "markdown",
      "metadata": {
        "id": "9C74mpp0KgZO"
      },
      "source": [
        "## **Define the Network**\n",
        "\n",
        "**We will built a CNN with following tasks**\n",
        "* Feature extractor\n",
        "* Classifier\n",
        "* Bounding box regressor"
      ]
    },
    {
      "cell_type": "code",
      "metadata": {
        "id": "Ih9S8SJuKWue"
      },
      "source": [
        "# Feature extractor\n",
        "def feature_extractor(inputs):\n",
        "    x = tf.keras.layers.Conv2D(16, activation='relu', kernel_size=3, input_shape=(75, 75, 1))(inputs)\n",
        "    x = tf.keras.layers.AveragePooling2D((2, 2))(x)\n",
        "\n",
        "    x = tf.keras.layers.Conv2D(32,kernel_size=3,activation='relu')(x)\n",
        "    x = tf.keras.layers.AveragePooling2D((2, 2))(x)\n",
        "\n",
        "    x = tf.keras.layers.Conv2D(64,kernel_size=3,activation='relu')(x)\n",
        "    x = tf.keras.layers.AveragePooling2D((2, 2))(x)\n",
        "\n",
        "    return x"
      ],
      "execution_count": 12,
      "outputs": []
    },
    {
      "cell_type": "code",
      "metadata": {
        "id": "OmYm72hMLM0n"
      },
      "source": [
        "# Dense layers will add a flattened and dense layers. Follows the feature extractor\n",
        "def dense_layers(inputs):\n",
        "  x = tf.keras.layers.Flatten()(inputs)\n",
        "  x = tf.keras.layers.Dense(128, activation='relu')(x)\n",
        "  return x\n"
      ],
      "execution_count": 13,
      "outputs": []
    },
    {
      "cell_type": "code",
      "metadata": {
        "id": "myTdW-N7LoBv"
      },
      "source": [
        "# Classifier - Multiclass classifier\n",
        "def classifier(inputs):\n",
        "  return tf.keras.layers.Dense(10, activation='softmax', name=\"classification\")(inputs)"
      ],
      "execution_count": 22,
      "outputs": []
    },
    {
      "cell_type": "code",
      "metadata": {
        "id": "2NgEraF1L5mq"
      },
      "source": [
        "# Bounding box regressor\n",
        "def bounding_box_regressor(inputs):\n",
        "  return tf.keras.layers.Dense(4, name=\"bounding_box\")(inputs)"
      ],
      "execution_count": 27,
      "outputs": []
    },
    {
      "cell_type": "code",
      "metadata": {
        "id": "sN1AtUaHMZUm"
      },
      "source": [
        "def final_model(inputs):\n",
        "  feature_extractor_cnn = feature_extractor(inputs)\n",
        "  dense_layers_outputs = dense_layers(feature_extractor_cnn)\n",
        "\n",
        "  # Outputs\n",
        "  classification_output = classifier(dense_layers_outputs)\n",
        "  regression_output = bounding_box_regressor(dense_layers_outputs)\n",
        "\n",
        "  return tf.keras.Model(inputs=inputs, outputs=[classification_output, regression_output])"
      ],
      "execution_count": 28,
      "outputs": []
    },
    {
      "cell_type": "code",
      "metadata": {
        "colab": {
          "base_uri": "https://localhost:8080/"
        },
        "id": "QDJfA89uNUTy",
        "outputId": "3d9910b3-2091-4f6c-cbf0-817e6ce59d17"
      },
      "source": [
        "# Compile Model\n",
        "with strategy.scope():\n",
        "  inputs = tf.keras.layers.Input(shape=(75, 75, 1))\n",
        "  model = final_model(inputs)\n",
        "  model.compile(optimizer='adam',\n",
        "                loss={'classification': 'categorical_crossentropy',\n",
        "                      'bounding_box': 'mse'},\n",
        "                metrics = {'classification' : 'accuracy',\n",
        "                         'bounding_box' : 'mse'\n",
        "                        })\n",
        "  model.summary()"
      ],
      "execution_count": 31,
      "outputs": [
        {
          "output_type": "stream",
          "name": "stdout",
          "text": [
            "Model: \"model_3\"\n",
            "__________________________________________________________________________________________________\n",
            "Layer (type)                    Output Shape         Param #     Connected to                     \n",
            "==================================================================================================\n",
            "input_6 (InputLayer)            [(None, 75, 75, 1)]  0                                            \n",
            "__________________________________________________________________________________________________\n",
            "conv2d_12 (Conv2D)              (None, 73, 73, 16)   160         input_6[0][0]                    \n",
            "__________________________________________________________________________________________________\n",
            "average_pooling2d_12 (AveragePo (None, 36, 36, 16)   0           conv2d_12[0][0]                  \n",
            "__________________________________________________________________________________________________\n",
            "conv2d_13 (Conv2D)              (None, 34, 34, 32)   4640        average_pooling2d_12[0][0]       \n",
            "__________________________________________________________________________________________________\n",
            "average_pooling2d_13 (AveragePo (None, 17, 17, 32)   0           conv2d_13[0][0]                  \n",
            "__________________________________________________________________________________________________\n",
            "conv2d_14 (Conv2D)              (None, 15, 15, 64)   18496       average_pooling2d_13[0][0]       \n",
            "__________________________________________________________________________________________________\n",
            "average_pooling2d_14 (AveragePo (None, 7, 7, 64)     0           conv2d_14[0][0]                  \n",
            "__________________________________________________________________________________________________\n",
            "flatten_4 (Flatten)             (None, 3136)         0           average_pooling2d_14[0][0]       \n",
            "__________________________________________________________________________________________________\n",
            "dense_4 (Dense)                 (None, 128)          401536      flatten_4[0][0]                  \n",
            "__________________________________________________________________________________________________\n",
            "classification (Dense)          (None, 10)           1290        dense_4[0][0]                    \n",
            "__________________________________________________________________________________________________\n",
            "bounding_box (Dense)            (None, 4)            516         dense_4[0][0]                    \n",
            "==================================================================================================\n",
            "Total params: 426,638\n",
            "Trainable params: 426,638\n",
            "Non-trainable params: 0\n",
            "__________________________________________________________________________________________________\n"
          ]
        }
      ]
    },
    {
      "cell_type": "markdown",
      "metadata": {
        "id": "yImVNs7UPC1_"
      },
      "source": [
        "## **Training and validation**"
      ]
    },
    {
      "cell_type": "code",
      "metadata": {
        "colab": {
          "base_uri": "https://localhost:8080/"
        },
        "id": "zjTOuHfZOpGO",
        "outputId": "a63a183d-1ffb-45a6-e6b0-181e22daeeec"
      },
      "source": [
        "EPOCHS = 45\n",
        "steps_per_epoch = 60000//BATCH_SIZE  # 60,000 items in this dataset\n",
        "validation_steps = 1\n",
        "\n",
        "history = model.fit(training_dataset,\n",
        "                    steps_per_epoch=steps_per_epoch, validation_data=validation_dataset, validation_steps=validation_steps, epochs=EPOCHS)\n",
        "\n",
        "loss, classification_loss, bounding_box_loss, classification_accuracy, bounding_box_mse = model.evaluate(validation_dataset, steps=1)\n",
        "print(\"Validation accuracy: \", classification_accuracy)"
      ],
      "execution_count": 33,
      "outputs": [
        {
          "output_type": "stream",
          "name": "stdout",
          "text": [
            "Epoch 1/45\n",
            "117/117 [==============================] - 3s 28ms/step - loss: 0.1551 - classification_loss: 0.1498 - bounding_box_loss: 0.0052 - classification_accuracy: 0.9561 - bounding_box_mse: 0.0052 - val_loss: 0.1259 - val_classification_loss: 0.1213 - val_bounding_box_loss: 0.0046 - val_classification_accuracy: 0.9640 - val_bounding_box_mse: 0.0046\n",
            "Epoch 2/45\n",
            "117/117 [==============================] - 3s 27ms/step - loss: 0.1480 - classification_loss: 0.1432 - bounding_box_loss: 0.0048 - classification_accuracy: 0.9578 - bounding_box_mse: 0.0048 - val_loss: 0.1315 - val_classification_loss: 0.1261 - val_bounding_box_loss: 0.0054 - val_classification_accuracy: 0.9605 - val_bounding_box_mse: 0.0054\n",
            "Epoch 3/45\n",
            "117/117 [==============================] - 3s 27ms/step - loss: 0.1443 - classification_loss: 0.1396 - bounding_box_loss: 0.0046 - classification_accuracy: 0.9585 - bounding_box_mse: 0.0046 - val_loss: 0.1110 - val_classification_loss: 0.1074 - val_bounding_box_loss: 0.0037 - val_classification_accuracy: 0.9674 - val_bounding_box_mse: 0.0037\n",
            "Epoch 4/45\n",
            "117/117 [==============================] - 3s 26ms/step - loss: 0.1342 - classification_loss: 0.1301 - bounding_box_loss: 0.0041 - classification_accuracy: 0.9608 - bounding_box_mse: 0.0041 - val_loss: 0.1298 - val_classification_loss: 0.1260 - val_bounding_box_loss: 0.0038 - val_classification_accuracy: 0.9604 - val_bounding_box_mse: 0.0038\n",
            "Epoch 5/45\n",
            "117/117 [==============================] - 3s 30ms/step - loss: 0.1288 - classification_loss: 0.1251 - bounding_box_loss: 0.0038 - classification_accuracy: 0.9626 - bounding_box_mse: 0.0038 - val_loss: 0.1078 - val_classification_loss: 0.1044 - val_bounding_box_loss: 0.0034 - val_classification_accuracy: 0.9667 - val_bounding_box_mse: 0.0034\n",
            "Epoch 6/45\n",
            "117/117 [==============================] - 3s 27ms/step - loss: 0.1209 - classification_loss: 0.1176 - bounding_box_loss: 0.0033 - classification_accuracy: 0.9644 - bounding_box_mse: 0.0033 - val_loss: 0.1040 - val_classification_loss: 0.1011 - val_bounding_box_loss: 0.0029 - val_classification_accuracy: 0.9694 - val_bounding_box_mse: 0.0029\n",
            "Epoch 7/45\n",
            "117/117 [==============================] - 3s 27ms/step - loss: 0.1228 - classification_loss: 0.1196 - bounding_box_loss: 0.0032 - classification_accuracy: 0.9642 - bounding_box_mse: 0.0032 - val_loss: 0.0944 - val_classification_loss: 0.0912 - val_bounding_box_loss: 0.0032 - val_classification_accuracy: 0.9705 - val_bounding_box_mse: 0.0032\n",
            "Epoch 8/45\n",
            "117/117 [==============================] - 3s 27ms/step - loss: 0.1099 - classification_loss: 0.1071 - bounding_box_loss: 0.0029 - classification_accuracy: 0.9673 - bounding_box_mse: 0.0029 - val_loss: 0.0930 - val_classification_loss: 0.0900 - val_bounding_box_loss: 0.0030 - val_classification_accuracy: 0.9722 - val_bounding_box_mse: 0.0030\n",
            "Epoch 9/45\n",
            "117/117 [==============================] - 3s 27ms/step - loss: 0.1084 - classification_loss: 0.1056 - bounding_box_loss: 0.0028 - classification_accuracy: 0.9685 - bounding_box_mse: 0.0028 - val_loss: 0.0943 - val_classification_loss: 0.0917 - val_bounding_box_loss: 0.0026 - val_classification_accuracy: 0.9706 - val_bounding_box_mse: 0.0026\n",
            "Epoch 10/45\n",
            "117/117 [==============================] - 3s 27ms/step - loss: 0.1000 - classification_loss: 0.0975 - bounding_box_loss: 0.0026 - classification_accuracy: 0.9706 - bounding_box_mse: 0.0026 - val_loss: 0.0816 - val_classification_loss: 0.0788 - val_bounding_box_loss: 0.0029 - val_classification_accuracy: 0.9743 - val_bounding_box_mse: 0.0029\n",
            "Epoch 11/45\n",
            "117/117 [==============================] - 3s 27ms/step - loss: 0.0984 - classification_loss: 0.0959 - bounding_box_loss: 0.0025 - classification_accuracy: 0.9700 - bounding_box_mse: 0.0025 - val_loss: 0.0838 - val_classification_loss: 0.0814 - val_bounding_box_loss: 0.0024 - val_classification_accuracy: 0.9732 - val_bounding_box_mse: 0.0024\n",
            "Epoch 12/45\n",
            "117/117 [==============================] - 3s 27ms/step - loss: 0.0921 - classification_loss: 0.0899 - bounding_box_loss: 0.0022 - classification_accuracy: 0.9726 - bounding_box_mse: 0.0022 - val_loss: 0.0879 - val_classification_loss: 0.0859 - val_bounding_box_loss: 0.0021 - val_classification_accuracy: 0.9735 - val_bounding_box_mse: 0.0021\n",
            "Epoch 13/45\n",
            "117/117 [==============================] - 3s 27ms/step - loss: 0.0929 - classification_loss: 0.0908 - bounding_box_loss: 0.0021 - classification_accuracy: 0.9723 - bounding_box_mse: 0.0021 - val_loss: 0.0866 - val_classification_loss: 0.0846 - val_bounding_box_loss: 0.0020 - val_classification_accuracy: 0.9729 - val_bounding_box_mse: 0.0020\n",
            "Epoch 14/45\n",
            "117/117 [==============================] - 3s 27ms/step - loss: 0.0912 - classification_loss: 0.0891 - bounding_box_loss: 0.0021 - classification_accuracy: 0.9720 - bounding_box_mse: 0.0021 - val_loss: 0.0750 - val_classification_loss: 0.0731 - val_bounding_box_loss: 0.0019 - val_classification_accuracy: 0.9754 - val_bounding_box_mse: 0.0019\n",
            "Epoch 15/45\n",
            "117/117 [==============================] - 3s 26ms/step - loss: 0.0862 - classification_loss: 0.0843 - bounding_box_loss: 0.0019 - classification_accuracy: 0.9749 - bounding_box_mse: 0.0019 - val_loss: 0.0678 - val_classification_loss: 0.0661 - val_bounding_box_loss: 0.0017 - val_classification_accuracy: 0.9805 - val_bounding_box_mse: 0.0017\n",
            "Epoch 16/45\n",
            "117/117 [==============================] - 3s 27ms/step - loss: 0.0813 - classification_loss: 0.0795 - bounding_box_loss: 0.0017 - classification_accuracy: 0.9755 - bounding_box_mse: 0.0017 - val_loss: 0.0647 - val_classification_loss: 0.0630 - val_bounding_box_loss: 0.0017 - val_classification_accuracy: 0.9801 - val_bounding_box_mse: 0.0017\n",
            "Epoch 17/45\n",
            "117/117 [==============================] - 3s 27ms/step - loss: 0.0787 - classification_loss: 0.0771 - bounding_box_loss: 0.0016 - classification_accuracy: 0.9767 - bounding_box_mse: 0.0016 - val_loss: 0.0679 - val_classification_loss: 0.0663 - val_bounding_box_loss: 0.0016 - val_classification_accuracy: 0.9789 - val_bounding_box_mse: 0.0016\n",
            "Epoch 18/45\n",
            "117/117 [==============================] - 3s 27ms/step - loss: 0.0749 - classification_loss: 0.0733 - bounding_box_loss: 0.0016 - classification_accuracy: 0.9775 - bounding_box_mse: 0.0016 - val_loss: 0.0613 - val_classification_loss: 0.0597 - val_bounding_box_loss: 0.0016 - val_classification_accuracy: 0.9813 - val_bounding_box_mse: 0.0016\n",
            "Epoch 19/45\n",
            "117/117 [==============================] - 3s 27ms/step - loss: 0.0751 - classification_loss: 0.0736 - bounding_box_loss: 0.0015 - classification_accuracy: 0.9773 - bounding_box_mse: 0.0015 - val_loss: 0.0607 - val_classification_loss: 0.0594 - val_bounding_box_loss: 0.0013 - val_classification_accuracy: 0.9804 - val_bounding_box_mse: 0.0013\n",
            "Epoch 20/45\n",
            "117/117 [==============================] - 3s 26ms/step - loss: 0.0757 - classification_loss: 0.0742 - bounding_box_loss: 0.0015 - classification_accuracy: 0.9774 - bounding_box_mse: 0.0015 - val_loss: 0.0673 - val_classification_loss: 0.0657 - val_bounding_box_loss: 0.0016 - val_classification_accuracy: 0.9790 - val_bounding_box_mse: 0.0016\n",
            "Epoch 21/45\n",
            "117/117 [==============================] - 3s 26ms/step - loss: 0.0724 - classification_loss: 0.0710 - bounding_box_loss: 0.0014 - classification_accuracy: 0.9781 - bounding_box_mse: 0.0014 - val_loss: 0.0657 - val_classification_loss: 0.0642 - val_bounding_box_loss: 0.0014 - val_classification_accuracy: 0.9806 - val_bounding_box_mse: 0.0014\n",
            "Epoch 22/45\n",
            "117/117 [==============================] - 3s 26ms/step - loss: 0.0720 - classification_loss: 0.0706 - bounding_box_loss: 0.0015 - classification_accuracy: 0.9780 - bounding_box_mse: 0.0015 - val_loss: 0.0626 - val_classification_loss: 0.0613 - val_bounding_box_loss: 0.0013 - val_classification_accuracy: 0.9809 - val_bounding_box_mse: 0.0013\n",
            "Epoch 23/45\n",
            "117/117 [==============================] - 3s 27ms/step - loss: 0.0678 - classification_loss: 0.0665 - bounding_box_loss: 0.0013 - classification_accuracy: 0.9794 - bounding_box_mse: 0.0013 - val_loss: 0.0677 - val_classification_loss: 0.0663 - val_bounding_box_loss: 0.0014 - val_classification_accuracy: 0.9792 - val_bounding_box_mse: 0.0014\n",
            "Epoch 24/45\n",
            "117/117 [==============================] - 3s 27ms/step - loss: 0.0692 - classification_loss: 0.0678 - bounding_box_loss: 0.0013 - classification_accuracy: 0.9792 - bounding_box_mse: 0.0013 - val_loss: 0.0636 - val_classification_loss: 0.0623 - val_bounding_box_loss: 0.0013 - val_classification_accuracy: 0.9795 - val_bounding_box_mse: 0.0013\n",
            "Epoch 25/45\n",
            "117/117 [==============================] - 4s 30ms/step - loss: 0.0662 - classification_loss: 0.0649 - bounding_box_loss: 0.0013 - classification_accuracy: 0.9803 - bounding_box_mse: 0.0013 - val_loss: 0.0593 - val_classification_loss: 0.0582 - val_bounding_box_loss: 0.0012 - val_classification_accuracy: 0.9805 - val_bounding_box_mse: 0.0012\n",
            "Epoch 26/45\n",
            "117/117 [==============================] - 3s 27ms/step - loss: 0.0674 - classification_loss: 0.0661 - bounding_box_loss: 0.0013 - classification_accuracy: 0.9796 - bounding_box_mse: 0.0013 - val_loss: 0.0528 - val_classification_loss: 0.0515 - val_bounding_box_loss: 0.0013 - val_classification_accuracy: 0.9837 - val_bounding_box_mse: 0.0013\n",
            "Epoch 27/45\n",
            "117/117 [==============================] - 3s 28ms/step - loss: 0.0628 - classification_loss: 0.0616 - bounding_box_loss: 0.0012 - classification_accuracy: 0.9808 - bounding_box_mse: 0.0012 - val_loss: 0.0514 - val_classification_loss: 0.0503 - val_bounding_box_loss: 0.0011 - val_classification_accuracy: 0.9827 - val_bounding_box_mse: 0.0011\n",
            "Epoch 28/45\n",
            "117/117 [==============================] - 3s 27ms/step - loss: 0.0594 - classification_loss: 0.0583 - bounding_box_loss: 0.0011 - classification_accuracy: 0.9820 - bounding_box_mse: 0.0011 - val_loss: 0.0563 - val_classification_loss: 0.0550 - val_bounding_box_loss: 0.0013 - val_classification_accuracy: 0.9816 - val_bounding_box_mse: 0.0013\n",
            "Epoch 29/45\n",
            "117/117 [==============================] - 3s 27ms/step - loss: 0.0629 - classification_loss: 0.0617 - bounding_box_loss: 0.0012 - classification_accuracy: 0.9810 - bounding_box_mse: 0.0012 - val_loss: 0.0562 - val_classification_loss: 0.0550 - val_bounding_box_loss: 0.0013 - val_classification_accuracy: 0.9817 - val_bounding_box_mse: 0.0013\n",
            "Epoch 30/45\n",
            "117/117 [==============================] - 3s 27ms/step - loss: 0.0573 - classification_loss: 0.0562 - bounding_box_loss: 0.0011 - classification_accuracy: 0.9824 - bounding_box_mse: 0.0011 - val_loss: 0.0511 - val_classification_loss: 0.0501 - val_bounding_box_loss: 9.8556e-04 - val_classification_accuracy: 0.9844 - val_bounding_box_mse: 9.8556e-04\n",
            "Epoch 31/45\n",
            "117/117 [==============================] - 3s 27ms/step - loss: 0.0577 - classification_loss: 0.0566 - bounding_box_loss: 0.0011 - classification_accuracy: 0.9819 - bounding_box_mse: 0.0011 - val_loss: 0.0517 - val_classification_loss: 0.0506 - val_bounding_box_loss: 0.0011 - val_classification_accuracy: 0.9845 - val_bounding_box_mse: 0.0011\n",
            "Epoch 32/45\n",
            "117/117 [==============================] - 3s 26ms/step - loss: 0.0553 - classification_loss: 0.0543 - bounding_box_loss: 0.0010 - classification_accuracy: 0.9832 - bounding_box_mse: 0.0010 - val_loss: 0.0559 - val_classification_loss: 0.0548 - val_bounding_box_loss: 0.0011 - val_classification_accuracy: 0.9822 - val_bounding_box_mse: 0.0011\n",
            "Epoch 33/45\n",
            "117/117 [==============================] - 3s 27ms/step - loss: 0.0526 - classification_loss: 0.0516 - bounding_box_loss: 9.9209e-04 - classification_accuracy: 0.9834 - bounding_box_mse: 9.9209e-04 - val_loss: 0.0512 - val_classification_loss: 0.0503 - val_bounding_box_loss: 9.4087e-04 - val_classification_accuracy: 0.9824 - val_bounding_box_mse: 9.4087e-04\n",
            "Epoch 34/45\n",
            "117/117 [==============================] - 3s 27ms/step - loss: 0.0552 - classification_loss: 0.0542 - bounding_box_loss: 0.0010 - classification_accuracy: 0.9829 - bounding_box_mse: 0.0010 - val_loss: 0.0479 - val_classification_loss: 0.0469 - val_bounding_box_loss: 9.5364e-04 - val_classification_accuracy: 0.9851 - val_bounding_box_mse: 9.5364e-04\n",
            "Epoch 35/45\n",
            "117/117 [==============================] - 3s 27ms/step - loss: 0.0551 - classification_loss: 0.0541 - bounding_box_loss: 0.0010 - classification_accuracy: 0.9832 - bounding_box_mse: 0.0010 - val_loss: 0.0488 - val_classification_loss: 0.0478 - val_bounding_box_loss: 0.0010 - val_classification_accuracy: 0.9839 - val_bounding_box_mse: 0.0010\n",
            "Epoch 36/45\n",
            "117/117 [==============================] - 3s 27ms/step - loss: 0.0514 - classification_loss: 0.0504 - bounding_box_loss: 9.8769e-04 - classification_accuracy: 0.9844 - bounding_box_mse: 9.8769e-04 - val_loss: 0.0497 - val_classification_loss: 0.0486 - val_bounding_box_loss: 0.0011 - val_classification_accuracy: 0.9855 - val_bounding_box_mse: 0.0011\n",
            "Epoch 37/45\n",
            "117/117 [==============================] - 3s 26ms/step - loss: 0.0519 - classification_loss: 0.0510 - bounding_box_loss: 9.2247e-04 - classification_accuracy: 0.9840 - bounding_box_mse: 9.2247e-04 - val_loss: 0.0456 - val_classification_loss: 0.0447 - val_bounding_box_loss: 9.2685e-04 - val_classification_accuracy: 0.9859 - val_bounding_box_mse: 9.2685e-04\n",
            "Epoch 38/45\n",
            "117/117 [==============================] - 3s 27ms/step - loss: 0.0536 - classification_loss: 0.0526 - bounding_box_loss: 9.6953e-04 - classification_accuracy: 0.9836 - bounding_box_mse: 9.6953e-04 - val_loss: 0.0383 - val_classification_loss: 0.0374 - val_bounding_box_loss: 9.5781e-04 - val_classification_accuracy: 0.9880 - val_bounding_box_mse: 9.5781e-04\n",
            "Epoch 39/45\n",
            "117/117 [==============================] - 3s 26ms/step - loss: 0.0510 - classification_loss: 0.0501 - bounding_box_loss: 9.0297e-04 - classification_accuracy: 0.9845 - bounding_box_mse: 9.0297e-04 - val_loss: 0.0497 - val_classification_loss: 0.0486 - val_bounding_box_loss: 0.0010 - val_classification_accuracy: 0.9837 - val_bounding_box_mse: 0.0010\n",
            "Epoch 40/45\n",
            "117/117 [==============================] - 3s 26ms/step - loss: 0.0538 - classification_loss: 0.0528 - bounding_box_loss: 9.9806e-04 - classification_accuracy: 0.9836 - bounding_box_mse: 9.9806e-04 - val_loss: 0.0494 - val_classification_loss: 0.0485 - val_bounding_box_loss: 9.7492e-04 - val_classification_accuracy: 0.9836 - val_bounding_box_mse: 9.7492e-04\n",
            "Epoch 41/45\n",
            "117/117 [==============================] - 3s 26ms/step - loss: 0.0471 - classification_loss: 0.0462 - bounding_box_loss: 8.8302e-04 - classification_accuracy: 0.9855 - bounding_box_mse: 8.8302e-04 - val_loss: 0.0449 - val_classification_loss: 0.0441 - val_bounding_box_loss: 8.9431e-04 - val_classification_accuracy: 0.9857 - val_bounding_box_mse: 8.9431e-04\n",
            "Epoch 42/45\n",
            "117/117 [==============================] - 3s 26ms/step - loss: 0.0520 - classification_loss: 0.0510 - bounding_box_loss: 9.3067e-04 - classification_accuracy: 0.9840 - bounding_box_mse: 9.3067e-04 - val_loss: 0.0418 - val_classification_loss: 0.0409 - val_bounding_box_loss: 9.0828e-04 - val_classification_accuracy: 0.9860 - val_bounding_box_mse: 9.0828e-04\n",
            "Epoch 43/45\n",
            "117/117 [==============================] - 3s 29ms/step - loss: 0.0479 - classification_loss: 0.0470 - bounding_box_loss: 8.6850e-04 - classification_accuracy: 0.9851 - bounding_box_mse: 8.6850e-04 - val_loss: 0.0474 - val_classification_loss: 0.0465 - val_bounding_box_loss: 9.0818e-04 - val_classification_accuracy: 0.9849 - val_bounding_box_mse: 9.0818e-04\n",
            "Epoch 44/45\n",
            "117/117 [==============================] - 3s 27ms/step - loss: 0.0466 - classification_loss: 0.0457 - bounding_box_loss: 8.3633e-04 - classification_accuracy: 0.9858 - bounding_box_mse: 8.3633e-04 - val_loss: 0.0389 - val_classification_loss: 0.0382 - val_bounding_box_loss: 7.4488e-04 - val_classification_accuracy: 0.9882 - val_bounding_box_mse: 7.4488e-04\n",
            "Epoch 45/45\n",
            "117/117 [==============================] - 3s 26ms/step - loss: 0.0437 - classification_loss: 0.0429 - bounding_box_loss: 7.6952e-04 - classification_accuracy: 0.9869 - bounding_box_mse: 7.6952e-04 - val_loss: 0.0474 - val_classification_loss: 0.0465 - val_bounding_box_loss: 8.2249e-04 - val_classification_accuracy: 0.9844 - val_bounding_box_mse: 8.2249e-04\n",
            "1/1 [==============================] - 1s 1s/step - loss: 0.0487 - classification_loss: 0.0478 - bounding_box_loss: 8.1980e-04 - classification_accuracy: 0.9835 - bounding_box_mse: 8.1980e-04\n",
            "Validation accuracy:  0.9835000038146973\n"
          ]
        }
      ]
    },
    {
      "cell_type": "code",
      "metadata": {
        "colab": {
          "base_uri": "https://localhost:8080/",
          "height": 284
        },
        "id": "pg9nUyxMPK4K",
        "outputId": "1c2b1e01-73d4-490e-ae3b-a765e6d51977"
      },
      "source": [
        "plot_metrics(\"classification_loss\", \"Classification Loss\")"
      ],
      "execution_count": 35,
      "outputs": [
        {
          "output_type": "display_data",
          "data": {
            "image/png": "[encoded data removed]",
            "text/plain": [
              "<Figure size 432x288 with 1 Axes>"
            ]
          },
          "metadata": {}
        }
      ]
    },
    {
      "cell_type": "code",
      "metadata": {
        "colab": {
          "base_uri": "https://localhost:8080/",
          "height": 284
        },
        "id": "t7mvG_iJQ3F0",
        "outputId": "fe489017-0c18-4beb-8d7e-13e9b448c6ce"
      },
      "source": [
        "plot_metrics(\"bounding_box_loss\", \"Bounding Box Loss\")"
      ],
      "execution_count": 36,
      "outputs": [
        {
          "output_type": "display_data",
          "data": {
            "image/png": "[encoded data removed]",
            "text/plain": [
              "<Figure size 432x288 with 1 Axes>"
            ]
          },
          "metadata": {}
        }
      ]
    },
    {
      "cell_type": "markdown",
      "metadata": {
        "id": "KLNQBPmpRAv2"
      },
      "source": [
        "## **IOU (Interesection over Union)**"
      ]
    },
    {
      "cell_type": "code",
      "metadata": {
        "id": "Uj8Obz3wQ9S-"
      },
      "source": [
        "# IOU metric\n",
        "def intersection_over_union(pred_box, true_box):\n",
        "    xmin_pred, ymin_pred, xmax_pred, ymax_pred =  np.split(pred_box, 4, axis = 1)\n",
        "    xmin_true, ymin_true, xmax_true, ymax_true = np.split(true_box, 4, axis = 1)\n",
        "\n",
        "    smoothing_factor = 1e-10\n",
        "\n",
        "    xmin_overlap = np.maximum(xmin_pred, xmin_true)\n",
        "    xmax_overlap = np.minimum(xmax_pred, xmax_true)\n",
        "    ymin_overlap = np.maximum(ymin_pred, ymin_true)\n",
        "    ymax_overlap = np.minimum(ymax_pred, ymax_true)\n",
        "\n",
        "    pred_box_area = (xmax_pred - xmin_pred) * (ymax_pred - ymin_pred)\n",
        "    true_box_area = (xmax_true - xmin_true) * (ymax_true - ymin_true)\n",
        "\n",
        "    overlap_area = np.maximum((xmax_overlap - xmin_overlap), 0)  * np.maximum((ymax_overlap - ymin_overlap), 0)\n",
        "    union_area = (pred_box_area + true_box_area) - overlap_area\n",
        "    \n",
        "    iou = (overlap_area + smoothing_factor) / (union_area + smoothing_factor)\n",
        "\n",
        "    return iou"
      ],
      "execution_count": 37,
      "outputs": []
    },
    {
      "cell_type": "markdown",
      "metadata": {
        "id": "JVVL62wqRPyv"
      },
      "source": [
        "### Visualize predictions"
      ]
    },
    {
      "cell_type": "code",
      "metadata": {
        "colab": {
          "base_uri": "https://localhost:8080/",
          "height": 298
        },
        "id": "snjEsaJWRNQn",
        "outputId": "dfa15eb0-22e5-4e7c-cb31-760231d42375"
      },
      "source": [
        "# recognize validation digits\n",
        "predictions = model.predict(validation_digits, batch_size=64)\n",
        "predicted_labels = np.argmax(predictions[0], axis=1)\n",
        "\n",
        "predicted_bboxes = predictions[1]\n",
        "\n",
        "iou = intersection_over_union(predicted_bboxes, validation_bboxes)\n",
        "\n",
        "iou_threshold = 0.6\n",
        "\n",
        "print(\"Number of predictions where iou > threshold(%s): %s\" % (iou_threshold, (iou >= iou_threshold).sum()))\n",
        "print(\"Number of predictions where iou < threshold(%s): %s\" % (iou_threshold, (iou < iou_threshold).sum()))\n",
        "\n",
        "\n",
        "display_digits_with_boxes(validation_digits, predicted_labels, validation_labels, predicted_bboxes, validation_bboxes, iou, \"True and Predicted values\")"
      ],
      "execution_count": 38,
      "outputs": [
        {
          "output_type": "stream",
          "name": "stdout",
          "text": [
            "Number of predictions where iou > threshold(0.6): 9701\n",
            "Number of predictions where iou < threshold(0.6): 299\n"
          ]
        },
        {
          "output_type": "display_data",
          "data": {
            "image/png": "[encoded data removed]",
            "text/plain": [
              "<Figure size 1440x288 with 11 Axes>"
            ]
          },
          "metadata": {}
        }
      ]
    },
    {
      "cell_type": "code",
      "metadata": {
        "id": "cr-wtWowRUFf"
      },
      "source": [
        ""
      ],
      "execution_count": null,
      "outputs": []
    }
  ]
}